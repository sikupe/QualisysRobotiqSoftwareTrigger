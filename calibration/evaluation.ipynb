{
 "cells": [
  {
   "cell_type": "code",
   "execution_count": 2,
   "metadata": {
    "collapsed": true,
    "ExecuteTime": {
     "end_time": "2023-10-07T15:47:27.062635468Z",
     "start_time": "2023-10-07T15:47:26.874531864Z"
    }
   },
   "outputs": [
    {
     "data": {
      "text/plain": "   Weight in kg Weight measured in kg Distance in mm  \\\n0           NaN                   NaN            NaN   \n1           NaN                   NaN            NaN   \n2           NaN                   NaN            NaN   \n3           NaN                   NaN            NaN   \n4           NaN                   NaN            NaN   \n..          ...                   ...            ...   \n3           NaN                   NaN            NaN   \n4           NaN                   NaN            NaN   \n5           NaN                   NaN            NaN   \n6           NaN                   NaN            NaN   \n7           NaN                   NaN            NaN   \n\n   Measured Force w/o weight in N Force std w/o weight in N  \\\n0                             NaN                       NaN   \n1                             NaN                       NaN   \n2                             NaN                       NaN   \n3                             NaN                       NaN   \n4                             NaN                       NaN   \n..                            ...                       ...   \n3                             NaN                       NaN   \n4                             NaN                       NaN   \n5                             NaN                       NaN   \n6                             NaN                       NaN   \n7                             NaN                       NaN   \n\n   Measured Force w/ weight in N Force std w/ weight in N  \\\n0                            NaN                      NaN   \n1                            NaN                      NaN   \n2                            NaN                      NaN   \n3                            NaN                      NaN   \n4                            NaN                      NaN   \n..                           ...                      ...   \n3                            NaN                      NaN   \n4                            NaN                      NaN   \n5                            NaN                      NaN   \n6                            NaN                      NaN   \n7                            NaN                      NaN   \n\n   Calculated weight in kg           0  \n0                      NaN    1.000000  \n1                      NaN    1.100000  \n2                      NaN   42.000000  \n3                      NaN    0.041878  \n4                      NaN    0.081378  \n..                     ...         ...  \n3                      NaN    0.141939  \n4                      NaN    5.806961  \n5                      NaN -120.896667  \n6                      NaN    0.142214  \n7                      NaN   12.323819  \n\n[64 rows x 9 columns]",
      "text/html": "<div>\n<style scoped>\n    .dataframe tbody tr th:only-of-type {\n        vertical-align: middle;\n    }\n\n    .dataframe tbody tr th {\n        vertical-align: top;\n    }\n\n    .dataframe thead th {\n        text-align: right;\n    }\n</style>\n<table border=\"1\" class=\"dataframe\">\n  <thead>\n    <tr style=\"text-align: right;\">\n      <th></th>\n      <th>Weight in kg</th>\n      <th>Weight measured in kg</th>\n      <th>Distance in mm</th>\n      <th>Measured Force w/o weight in N</th>\n      <th>Force std w/o weight in N</th>\n      <th>Measured Force w/ weight in N</th>\n      <th>Force std w/ weight in N</th>\n      <th>Calculated weight in kg</th>\n      <th>0</th>\n    </tr>\n  </thead>\n  <tbody>\n    <tr>\n      <th>0</th>\n      <td>NaN</td>\n      <td>NaN</td>\n      <td>NaN</td>\n      <td>NaN</td>\n      <td>NaN</td>\n      <td>NaN</td>\n      <td>NaN</td>\n      <td>NaN</td>\n      <td>1.000000</td>\n    </tr>\n    <tr>\n      <th>1</th>\n      <td>NaN</td>\n      <td>NaN</td>\n      <td>NaN</td>\n      <td>NaN</td>\n      <td>NaN</td>\n      <td>NaN</td>\n      <td>NaN</td>\n      <td>NaN</td>\n      <td>1.100000</td>\n    </tr>\n    <tr>\n      <th>2</th>\n      <td>NaN</td>\n      <td>NaN</td>\n      <td>NaN</td>\n      <td>NaN</td>\n      <td>NaN</td>\n      <td>NaN</td>\n      <td>NaN</td>\n      <td>NaN</td>\n      <td>42.000000</td>\n    </tr>\n    <tr>\n      <th>3</th>\n      <td>NaN</td>\n      <td>NaN</td>\n      <td>NaN</td>\n      <td>NaN</td>\n      <td>NaN</td>\n      <td>NaN</td>\n      <td>NaN</td>\n      <td>NaN</td>\n      <td>0.041878</td>\n    </tr>\n    <tr>\n      <th>4</th>\n      <td>NaN</td>\n      <td>NaN</td>\n      <td>NaN</td>\n      <td>NaN</td>\n      <td>NaN</td>\n      <td>NaN</td>\n      <td>NaN</td>\n      <td>NaN</td>\n      <td>0.081378</td>\n    </tr>\n    <tr>\n      <th>...</th>\n      <td>...</td>\n      <td>...</td>\n      <td>...</td>\n      <td>...</td>\n      <td>...</td>\n      <td>...</td>\n      <td>...</td>\n      <td>...</td>\n      <td>...</td>\n    </tr>\n    <tr>\n      <th>3</th>\n      <td>NaN</td>\n      <td>NaN</td>\n      <td>NaN</td>\n      <td>NaN</td>\n      <td>NaN</td>\n      <td>NaN</td>\n      <td>NaN</td>\n      <td>NaN</td>\n      <td>0.141939</td>\n    </tr>\n    <tr>\n      <th>4</th>\n      <td>NaN</td>\n      <td>NaN</td>\n      <td>NaN</td>\n      <td>NaN</td>\n      <td>NaN</td>\n      <td>NaN</td>\n      <td>NaN</td>\n      <td>NaN</td>\n      <td>5.806961</td>\n    </tr>\n    <tr>\n      <th>5</th>\n      <td>NaN</td>\n      <td>NaN</td>\n      <td>NaN</td>\n      <td>NaN</td>\n      <td>NaN</td>\n      <td>NaN</td>\n      <td>NaN</td>\n      <td>NaN</td>\n      <td>-120.896667</td>\n    </tr>\n    <tr>\n      <th>6</th>\n      <td>NaN</td>\n      <td>NaN</td>\n      <td>NaN</td>\n      <td>NaN</td>\n      <td>NaN</td>\n      <td>NaN</td>\n      <td>NaN</td>\n      <td>NaN</td>\n      <td>0.142214</td>\n    </tr>\n    <tr>\n      <th>7</th>\n      <td>NaN</td>\n      <td>NaN</td>\n      <td>NaN</td>\n      <td>NaN</td>\n      <td>NaN</td>\n      <td>NaN</td>\n      <td>NaN</td>\n      <td>NaN</td>\n      <td>12.323819</td>\n    </tr>\n  </tbody>\n</table>\n<p>64 rows × 9 columns</p>\n</div>"
     },
     "execution_count": 2,
     "metadata": {},
     "output_type": "execute_result"
    }
   ],
   "source": [
    "from os.path import join\n",
    "\n",
    "import numpy as np\n",
    "import pandas as pd\n",
    "\n",
    "\n",
    "def evaluate_forces():\n",
    "    handles = ['left', 'right']\n",
    "    distances = [42, 132]\n",
    "    weights = [1, 2, 5, 10]\n",
    "    actual_weights = [1.1, 1.95, 5.2, 10.0]\n",
    "\n",
    "    dfs = []\n",
    "    for handle in handles:\n",
    "        df = pd.DataFrame(\n",
    "            columns=['Weight in kg', 'Weight measured in kg', 'Distance in mm', 'Measured Force w/o weight in N',\n",
    "                     'Force std w/o weight in N',\n",
    "                     'Measured Force w/ weight in N', 'Force std w/ weight in N', 'Calculated weight in kg'])\n",
    "\n",
    "        for distance in distances:\n",
    "            for weight, actual_weight in zip(weights, actual_weights):\n",
    "                path = join(handle, f'{weight}kg_{distance}mm.csv')\n",
    "                data = pd.read_csv(path, sep=',', skip_blank_lines=True, on_bad_lines='skip',\n",
    "                                   encoding='utf-16-le')\n",
    "\n",
    "                end_of_zeroing = data.index[data['time(s)'] < 2][-1]\n",
    "                beginning_of_force = data.index[data['time(s)'] > data['time(s)'].iloc[-1] - 3][0]\n",
    "\n",
    "                zero_values = data['Fx'].iloc[:end_of_zeroing]\n",
    "                force_values = data['Fx'].iloc[beginning_of_force:]\n",
    "\n",
    "                zero_avg = np.average(zero_values)\n",
    "                force_avg = np.average(force_values)\n",
    "\n",
    "                zero_std = np.std(zero_values)\n",
    "                force_std = np.std(force_values)\n",
    "\n",
    "                calc_weight = force_avg / -9.81\n",
    "\n",
    "                df = pd.concat([df, pd.DataFrame(data=\n",
    "                                                 [weight, actual_weight, distance, zero_avg, zero_std, force_avg,\n",
    "                                                  force_std, calc_weight])])\n",
    "        dfs.append(df)\n",
    "    return dfs\n",
    "\n",
    "\n",
    "left, right = evaluate_forces()\n",
    "left\n",
    "right\n"
   ]
  },
  {
   "cell_type": "code",
   "execution_count": 2,
   "outputs": [],
   "source": [],
   "metadata": {
    "collapsed": false,
    "ExecuteTime": {
     "end_time": "2023-10-07T15:47:27.063251987Z",
     "start_time": "2023-10-07T15:47:27.060427768Z"
    }
   }
  }
 ],
 "metadata": {
  "kernelspec": {
   "display_name": "Python 3",
   "language": "python",
   "name": "python3"
  },
  "language_info": {
   "codemirror_mode": {
    "name": "ipython",
    "version": 2
   },
   "file_extension": ".py",
   "mimetype": "text/x-python",
   "name": "python",
   "nbconvert_exporter": "python",
   "pygments_lexer": "ipython2",
   "version": "2.7.6"
  }
 },
 "nbformat": 4,
 "nbformat_minor": 0
}
